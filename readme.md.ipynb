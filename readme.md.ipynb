{
 "cells": [
  {
   "cell_type": "markdown",
   "metadata": {},
   "source": [
    "# Field Report"
   ]
  },
  {
   "cell_type": "markdown",
   "metadata": {},
   "source": [
    "## Amanda Breseman - April 13, 2019 - Whistling Arch"
   ]
  },
  {
   "cell_type": "markdown",
   "metadata": {},
   "source": [
    "I chose to visit Whistling Arch for my field visit. It was a very accessible trail with some interesting plants along the way. From the small parking lot, the ridgetop trail is .25 miles long and finishes to a large rock shelter with a buttress-type arch. The view to the south from the sandy overlook is quite beautiful. "
   ]
  },
  {
   "cell_type": "markdown",
   "metadata": {},
   "source": [
    "Looking through the arch from under the rock shelter. ![Looking Through the Whistling Arch](https://live.staticflickr.com/65535/33874170078_226eb9fd87_k.jpg)   \n",
    "\n"
   ]
  },
  {
   "cell_type": "markdown",
   "metadata": {},
   "source": [
    "The view from under the rock shelter. ![Looking From Whistling Arch](https://live.staticflickr.com/65535/40784721873_01d11694c8_k.jpg)   "
   ]
  },
  {
   "cell_type": "markdown",
   "metadata": {},
   "source": [
    "Overlook. ![Behind the Rock Shelter](https://live.staticflickr.com/65535/33874171458_ab6d78e29d_z.jpg)   "
   ]
  },
  {
   "cell_type": "markdown",
   "metadata": {},
   "source": [
    "Pine Trees by the Arch. ![Looking Through the Whistling Arch](https://live.staticflickr.com/65535/40784723243_054fe7c1f3_k.jpg)  "
   ]
  },
  {
   "cell_type": "markdown",
   "metadata": {},
   "source": [
    "The view through the arch from behind the rock shelter. ![Looking Through Again](https://live.staticflickr.com/65535/33874171898_2f3b63ab45_k.jpg)  "
   ]
  },
  {
   "cell_type": "code",
   "execution_count": null,
   "metadata": {},
   "outputs": [],
   "source": []
  }
 ],
 "metadata": {
  "kernelspec": {
   "display_name": "Python 3",
   "language": "python",
   "name": "python3"
  },
  "language_info": {
   "codemirror_mode": {
    "name": "ipython",
    "version": 3
   },
   "file_extension": ".py",
   "mimetype": "text/x-python",
   "name": "python",
   "nbconvert_exporter": "python",
   "pygments_lexer": "ipython3",
   "version": "3.6.6"
  }
 },
 "nbformat": 4,
 "nbformat_minor": 2
}
